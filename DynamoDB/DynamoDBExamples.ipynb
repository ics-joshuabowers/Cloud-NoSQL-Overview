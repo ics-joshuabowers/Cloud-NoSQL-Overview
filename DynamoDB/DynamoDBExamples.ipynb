{
 "cells": [
  {
   "cell_type": "markdown",
   "id": "5ed9be4f",
   "metadata": {},
   "source": [
    "# DynamoDB Examples\n",
    "These examples are meant to demonstrate simple examples of querying values in DynamoDB.\n",
    "\n",
    "1. Get all records in partition\n",
    "1. Get all records in partition with sort key that starts with Andrew\n",
    "1. Get all records in partition with sort key that starts with Andrew#Fuller\n",
    "\n",
    "\n",
    "## Requirements\n",
    "* For easiest and least setup upload this to a running notebook in SageMaker, an aws service for Data Science.\n",
    "* A DynamoDB table with the name `employee`\n",
    "* Ability to connect to DynamoDB from where ever this is being run.\n",
    "    * If running in SageMaker then make sure the role used for the Notebook has rights to access DynamoDB.\n",
    "\n",
    "## Contribute\n",
    "If you would like to show case different aspects of DynamoDB, please submit a PR request with your desired show case. If you would like to purpose an idea please submit an issue with the tag of enhancement."
   ]
  },
  {
   "cell_type": "code",
   "execution_count": null,
   "id": "147e02f5",
   "metadata": {},
   "outputs": [],
   "source": [
    "import json\n",
    "import boto3 # AWS python api\n",
    "\n",
    "dynamodb = boto3.resource('dynamodb')\n",
    "table = dynamodb.Table('employee')\n",
    "print(table.creation_date_time)"
   ]
  },
  {
   "cell_type": "code",
   "execution_count": null,
   "id": "277ee41a",
   "metadata": {},
   "outputs": [],
   "source": [
    "handle = open( \"dynamoDBData.json\" )\n",
    "\n",
    "data = json.load( handle )\n",
    "\n",
    "handle.close()\n",
    "\n",
    "print( json.dumps( data[0], indent = 2 ) )"
   ]
  },
  {
   "cell_type": "markdown",
   "id": "702cb1b8",
   "metadata": {},
   "source": [
    "### Load data\n",
    "This loads the data into the employee table in batches of no more than 25 records at a time."
   ]
  },
  {
   "cell_type": "code",
   "execution_count": null,
   "id": "30163596",
   "metadata": {},
   "outputs": [],
   "source": [
    "with table.batch_writer() as batch:\n",
    "    for item in data:\n",
    "        batch.put_item( Item = item )\n",
    "\n",
    "print( 'Inserted records successfully!' )"
   ]
  },
  {
   "cell_type": "markdown",
   "id": "37c1c142",
   "metadata": {},
   "source": [
    "### Get all records from the employee partition"
   ]
  },
  {
   "cell_type": "code",
   "execution_count": null,
   "id": "3d091228",
   "metadata": {},
   "outputs": [],
   "source": [
    "from boto3.dynamodb.conditions import Key, Attr\n",
    "\n",
    "table.query(\n",
    "    KeyConditionExpression=Key('PK').eq('employee')\n",
    ")[ \"Items\" ]"
   ]
  },
  {
   "cell_type": "markdown",
   "id": "e0908805",
   "metadata": {},
   "source": [
    "### Get all records within the employee partition and sort key starting with Andrew"
   ]
  },
  {
   "cell_type": "code",
   "execution_count": null,
   "id": "5b102c5b",
   "metadata": {},
   "outputs": [],
   "source": [
    "table.query(\n",
    "    KeyConditionExpression=Key('PK').eq('employee') & Key('SK').begins_with('Andrew')\n",
    ")[ \"Items\" ]"
   ]
  },
  {
   "cell_type": "markdown",
   "id": "574b6489",
   "metadata": {},
   "source": [
    "### Get all records within the employee partition and sort key starting with Andrew#Fuller"
   ]
  },
  {
   "cell_type": "code",
   "execution_count": null,
   "id": "6981c658",
   "metadata": {},
   "outputs": [],
   "source": [
    "table.query(\n",
    "    KeyConditionExpression=Key('PK').eq('employee') & Key('SK').begins_with('Andrew#Fuller')\n",
    ")[ \"Items\" ]"
   ]
  }
 ],
 "metadata": {
  "kernelspec": {
   "display_name": "conda_python3",
   "language": "python",
   "name": "conda_python3"
  },
  "language_info": {
   "codemirror_mode": {
    "name": "ipython",
    "version": 3
   },
   "file_extension": ".py",
   "mimetype": "text/x-python",
   "name": "python",
   "nbconvert_exporter": "python",
   "pygments_lexer": "ipython3",
   "version": "3.8.12"
  }
 },
 "nbformat": 4,
 "nbformat_minor": 5
}
