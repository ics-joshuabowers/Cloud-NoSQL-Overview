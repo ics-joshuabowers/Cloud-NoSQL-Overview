{
 "cells": [
  {
   "cell_type": "code",
   "execution_count": null,
   "id": "147e02f5",
   "metadata": {},
   "outputs": [],
   "source": [
    "import json\n",
    "import boto3\n",
    "\n",
    "dynamodb = boto3.resource('dynamodb')\n",
    "table = dynamodb.Table('employee')\n",
    "print(table.creation_date_time)"
   ]
  },
  {
   "cell_type": "code",
   "execution_count": null,
   "id": "277ee41a",
   "metadata": {},
   "outputs": [],
   "source": [
    "handle = open( \"dynamoDBData.json\" )\n",
    "\n",
    "data = json.load( handle )\n",
    "\n",
    "handle.close()\n",
    "\n",
    "print( json.dumps( data[0], indent = 2 ) )"
   ]
  },
  {
   "cell_type": "code",
   "execution_count": null,
   "id": "30163596",
   "metadata": {},
   "outputs": [],
   "source": [
    "with table.batch_writer() as batch:\n",
    "    for item in data:\n",
    "        batch.put_item( Item = item )\n",
    "\n",
    "print( 'Inserted records successfully!' )"
   ]
  },
  {
   "cell_type": "code",
   "execution_count": null,
   "id": "3d091228",
   "metadata": {},
   "outputs": [],
   "source": [
    "from boto3.dynamodb.conditions import Key, Attr\n",
    "\n",
    "table.query(\n",
    "    KeyConditionExpression=Key('PK').eq('employee')\n",
    ")[ \"Items\" ]"
   ]
  },
  {
   "cell_type": "code",
   "execution_count": null,
   "id": "5b102c5b",
   "metadata": {},
   "outputs": [],
   "source": [
    "table.query(\n",
    "    KeyConditionExpression=Key('PK').eq('employee') & Key('SK').begins_with('Andrew')\n",
    ")[ \"Items\" ]"
   ]
  },
  {
   "cell_type": "code",
   "execution_count": null,
   "id": "6981c658",
   "metadata": {},
   "outputs": [],
   "source": [
    "table.query(\n",
    "    KeyConditionExpression=Key('PK').eq('employee') & Key('SK').begins_with('Andrew#Fuller')\n",
    ")[ \"Items\" ]"
   ]
  }
 ],
 "metadata": {
  "kernelspec": {
   "display_name": "conda_python3",
   "language": "python",
   "name": "conda_python3"
  },
  "language_info": {
   "codemirror_mode": {
    "name": "ipython",
    "version": 3
   },
   "file_extension": ".py",
   "mimetype": "text/x-python",
   "name": "python",
   "nbconvert_exporter": "python",
   "pygments_lexer": "ipython3",
   "version": "3.8.12"
  }
 },
 "nbformat": 4,
 "nbformat_minor": 5
}
