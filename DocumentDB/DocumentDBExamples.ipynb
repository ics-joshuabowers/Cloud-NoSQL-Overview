{
 "cells": [
  {
   "cell_type": "markdown",
   "metadata": {},
   "source": [
    "## Description\n",
    "This notebook walks through a simple way to connect to Amazon DocumentDB from an Amazon SageMaker notebook.\n",
    "Ensure that the SageMaker Notebook instance is in a security group that can access Amazon DocumentDB.\n",
    "\n",
    "This notebook performs the following tasks\n",
    "* import some needed packages.\n",
    "* gather the connection details and credentials for the Amazon DocumentDB cluster and make the connection\n",
    "* issue a basic command to verify successfull connection\n",
    "* issue some insert statements\n",
    "* issue some read statements"
   ]
  },
  {
   "cell_type": "code",
   "execution_count": null,
   "metadata": {},
   "outputs": [],
   "source": [
    "import sys\n",
    "!{sys.executable} -m pip install --upgrade pymongo"
   ]
  },
  {
   "cell_type": "code",
   "execution_count": null,
   "metadata": {},
   "outputs": [],
   "source": [
    "import os\n",
    "\n",
    "pem_location = \"/home/ec2-user/SageMaker/rds-combined-ca-bundle.pem\"\n",
    "\n",
    "if os.path.isfile( pem_location ):\n",
    "    print( \"CERT exists!\" )\n",
    "else:\n",
    "    print( \"CERT doesn't exist. Please upload in the home screen right next to this notebook\" )"
   ]
  },
  {
   "cell_type": "code",
   "execution_count": null,
   "metadata": {},
   "outputs": [],
   "source": [
    "import pymongo\n",
    "import getpass\n",
    "import json"
   ]
  },
  {
   "cell_type": "markdown",
   "metadata": {},
   "source": [
    "### Provide connection information for DocumentDB cluster"
   ]
  },
  {
   "cell_type": "code",
   "execution_count": null,
   "metadata": {},
   "outputs": [],
   "source": [
    "# Prompt user for Amazon DocumentDB connection details and credentials\n",
    "docdb_host = input(\"Amazon DocumentDB cluster endpoint:\")\n",
    "docdb_port = input(\"Amazon DocumentDB port:\")\n",
    "username = input(\"Username:\")\n",
    "password = getpass.getpass(\"Password:\")\n",
    "\n",
    "# Make a client connection to Amazon DocumentDB with the supplied connection detals and credentials\n",
    "uri_str = \"mongodb://{username}:{password}@{docdb_host}:{docdb_port}/?ssl=true&replicaSet=rs0&readPreference=secondaryPreferred&retryWrites=false\"\n",
    "uri = uri_str.format(username=username, password=password, docdb_host=docdb_host, docdb_port=docdb_port, pem_location=pem_location)\n",
    "client = pymongo.MongoClient(uri, tlsCAFile = pem_location )\n",
    "\n",
    "# Run a simple command to verify a connection\n",
    "#  This command will show cluster details for the Amazon DocumentDB cluster\n",
    "client[\"admin\"].command(\"ismaster\")"
   ]
  },
  {
   "cell_type": "markdown",
   "metadata": {},
   "source": [
    "### "
   ]
  },
  {
   "cell_type": "markdown",
   "metadata": {},
   "source": [
    "### Insert test data"
   ]
  },
  {
   "cell_type": "code",
   "execution_count": null,
   "metadata": {},
   "outputs": [],
   "source": [
    "# Insert a few documents\n",
    "db_name = \"ecommerce\"  # database name\n",
    "coll_name = \"person\"  # collection name\n",
    "\n",
    "# Get objects for the database and the collection\n",
    "db = client[db_name]\n",
    "coll = db[coll_name]\n",
    "coll.drop()         # drop collection to clear out any existing data\n",
    "\n",
    "handle = open( \"docDBData.json\" )\n",
    "\n",
    "data = json.load( handle )\n",
    "\n",
    "handle.close()\n",
    "\n",
    "print( json.dumps( data[0], indent = 2 ) )\n",
    "\n",
    "coll.insert_many( data )\n",
    "data = []\n",
    "\n",
    "print( f'Inserted {coll.estimated_document_count():,} record(s)' )"
   ]
  },
  {
   "cell_type": "markdown",
   "metadata": {},
   "source": [
    "### Get top 5 records where `personStatus` has a value _Inactive_"
   ]
  },
  {
   "cell_type": "code",
   "execution_count": null,
   "metadata": {},
   "outputs": [],
   "source": [
    "#Simple query\n",
    "for doc in coll.find({ \"personStatus\": \"Inactive\" }).limit(5):\n",
    "    print( doc[ \"personName\" ] )"
   ]
  },
  {
   "cell_type": "markdown",
   "metadata": {},
   "source": [
    "### Get top 5 records where at least one `paymentMethodType` property with in the `paymentMethod` array has a value _Bank Account_"
   ]
  },
  {
   "cell_type": "code",
   "execution_count": null,
   "metadata": {},
   "outputs": [],
   "source": [
    "#query with hierarchies\n",
    "for doc in coll.find({ \"paymentMethod.paymentMethodType\": \"Bank Account\" }).limit(5):\n",
    "    print( f'Name: {doc[ \"personName\" ]:<16} Payment Methods: {[ d[ \"paymentMethodType\" ] for d in doc[ \"paymentMethod\" ] ]}' )"
   ]
  },
  {
   "cell_type": "markdown",
   "metadata": {},
   "source": [
    "### Get top 5 records where at least one `docVersion` property with in `docHistory` array contained in the `metadata` section has a value greater than _1.2_"
   ]
  },
  {
   "cell_type": "code",
   "execution_count": null,
   "metadata": {},
   "outputs": [],
   "source": [
    "for doc in coll.find({ \"metadata.docHistory.docVersion\": { \"$gt\": 1.2 } }).limit(5):\n",
    "    print( f'Name: {doc[ \"personName\" ]:<15} Newest Version: {max([ d[ \"docVersion\" ] for d in doc[ \"metadata\" ][ \"docHistory\" ] ])}' )"
   ]
  }
 ],
 "metadata": {
  "kernelspec": {
   "display_name": "Python 3.10.0 64-bit",
   "language": "python",
   "name": "python3"
  },
  "language_info": {
   "codemirror_mode": {
    "name": "ipython",
    "version": 3
   },
   "file_extension": ".py",
   "mimetype": "text/x-python",
   "name": "python",
   "nbconvert_exporter": "python",
   "pygments_lexer": "ipython3",
   "version": "3.10.0"
  },
  "vscode": {
   "interpreter": {
    "hash": "26de051ba29f2982a8de78e945f0abaf191376122a1563185a90213a26c5da77"
   }
  }
 },
 "nbformat": 4,
 "nbformat_minor": 4
}
